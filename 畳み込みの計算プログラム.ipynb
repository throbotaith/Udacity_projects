{
 "cells": [
  {
   "cell_type": "code",
   "execution_count": 11,
   "metadata": {},
   "outputs": [
    {
     "name": "stdout",
     "output_type": "stream",
     "text": [
      "入力層を入力してください(RGBなら3)\n",
      "13\n",
      "ストライドを入力してください\n",
      "1\n",
      "パディングを入力してください\n",
      "1\n",
      "フィルターの辺を入力してください\n",
      "1\n",
      "出力フィルターはこの数です.整数ならOK!\n",
      "15.0\n"
     ]
    }
   ],
   "source": [
    "import math\n",
    "W ,S, P, F = 0,0,0,0\n",
    "print(\"入力層を入力してください(RGBなら3)\")\n",
    "W = int(input())\n",
    "\n",
    "print(\"ストライドを入力してください\")\n",
    "S = int(input())\n",
    "print(\"パディングを入力してください\")\n",
    "P = int(input())\n",
    "print(\"フィルターの辺を入力してください\")\n",
    "F = int(input())\n",
    "\n",
    "Next_Filter = (W - F + 2 * P) / (S) + 1\n",
    "print(\"出力フィルターはこの数です.整数ならOK!\")\n",
    "print(Next_Filter)\n",
    "x = Next_Filter"
   ]
  },
  {
   "cell_type": "code",
   "execution_count": null,
   "metadata": {},
   "outputs": [],
   "source": []
  }
 ],
 "metadata": {
  "kernelspec": {
   "display_name": "Python 3",
   "language": "python",
   "name": "python3"
  },
  "language_info": {
   "codemirror_mode": {
    "name": "ipython",
    "version": 3
   },
   "file_extension": ".py",
   "mimetype": "text/x-python",
   "name": "python",
   "nbconvert_exporter": "python",
   "pygments_lexer": "ipython3",
   "version": "3.7.6"
  }
 },
 "nbformat": 4,
 "nbformat_minor": 2
}
